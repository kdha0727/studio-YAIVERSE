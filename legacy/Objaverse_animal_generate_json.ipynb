{
 "cells": [
  {
   "cell_type": "code",
   "execution_count": 1,
   "id": "cc29cf78-6ede-4339-bacb-5a0fd22043d6",
   "metadata": {},
   "outputs": [],
   "source": [
    "import json\n",
    "import collections\n",
    "import pandas as pd"
   ]
  },
  {
   "cell_type": "code",
   "execution_count": 2,
   "id": "0969520d-56cc-41b7-aa62-ca498d12a596",
   "metadata": {},
   "outputs": [],
   "source": [
    "f = pd.read_csv('objaverse_animal_list.csv', encoding='utf-8')\n",
    "f"
   ]
  },
  {
   "cell_type": "code",
   "execution_count": null,
   "id": "f3363ae8-98a6-4b70-8ef9-ad174a0f7fd7",
   "metadata": {},
   "outputs": [],
   "source": [
    "f.columns"
   ]
  },
  {
   "cell_type": "code",
   "execution_count": 5,
   "id": "dc4523ad-6ea2-46a5-888e-5f36eec0d4de",
   "metadata": {},
   "outputs": [],
   "source": [
    "Objaverse_animal = f.loc[(f['Column2'] == 'o')| (f['Column2'] == 'O')]\n",
    "Objaverse_animal.reset_index(inplace=True)"
   ]
  },
  {
   "cell_type": "code",
   "execution_count": null,
   "outputs": [],
   "source": [
    "Objaverse_animal"
   ],
   "metadata": {
    "collapsed": false
   }
  },
  {
   "cell_type": "code",
   "execution_count": 10,
   "id": "dc08078d-4346-41f7-b5b5-fead13bb4faa",
   "metadata": {},
   "outputs": [],
   "source": [
    "file_data = collections.OrderedDict()\n",
    "trg = Objaverse_animal[\"Column1\"]"
   ]
  },
  {
   "cell_type": "code",
   "execution_count": null,
   "id": "46f3c9e1-4424-4d07-b8ab-f9cafb5d511c",
   "metadata": {},
   "outputs": [],
   "source": [
    "trg"
   ]
  },
  {
   "cell_type": "code",
   "execution_count": 12,
   "id": "e9ce8821-baf1-41c7-9cb1-5b814f65a325",
   "metadata": {},
   "outputs": [],
   "source": [
    "for i in range(428):\n",
    "    file_data[f\"temp{trg[i]}/model.glb\"] = [f\"objaverse/objaverse_result/img{trg[i]}\", 100]"
   ]
  },
  {
   "cell_type": "code",
   "execution_count": 14,
   "id": "0c891e49-8a6a-4b32-9fa0-836fd776e142",
   "metadata": {},
   "outputs": [],
   "source": [
    "with open('objaverse_animal_processed.json', 'w', encoding='utf-8') as fp:\n",
    "    json.dump(file_data, fp, ensure_ascii=False, indent=\"\\t\")"
   ]
  }
 ],
 "metadata": {
  "kernelspec": {
   "display_name": "Python 3 (ipykernel)",
   "language": "python",
   "name": "python3"
  },
  "language_info": {
   "codemirror_mode": {
    "name": "ipython",
    "version": 3
   },
   "file_extension": ".py",
   "mimetype": "text/x-python",
   "name": "python",
   "nbconvert_exporter": "python",
   "pygments_lexer": "ipython3",
   "version": "3.10.9"
  }
 },
 "nbformat": 4,
 "nbformat_minor": 5
}
